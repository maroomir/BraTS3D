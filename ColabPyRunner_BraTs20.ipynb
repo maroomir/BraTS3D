{
 "nbformat": 4,
 "nbformat_minor": 0,
 "metadata": {
  "colab": {
   "name": "ColabPyRunner_BraTs20.ipynb",
   "provenance": [],
   "collapsed_sections": [],
   "toc_visible": true,
   "machine_shape": "hm"
  },
  "kernelspec": {
   "name": "python3",
   "display_name": "Python 3"
  },
  "language_info": {
   "name": "python"
  },
  "accelerator": "GPU"
 },
 "cells": [
  {
   "cell_type": "markdown",
   "metadata": {
    "id": "19TN5UArXq_U"
   },
   "source": [
    "### Google Drive 내 Python Code 실행 Job\n",
    "#### Local에서 Debugging이 완료된 Python code를 고성능의 가상 환경에서 돌려보자.\n",
    "\n",
    "- Google Drive를 연결한다."
   ]
  },
  {
   "cell_type": "code",
   "metadata": {
    "colab": {
     "base_uri": "https://localhost:8080/"
    },
    "id": "eFosASqHXYRn",
    "outputId": "c811b1e4-4b79-4c81-9c78-5d594f2e0c81"
   },
   "source": [
    "from google.colab import drive\n",
    "drive.mount('/content/drive')"
   ],
   "execution_count": 4,
   "outputs": [
    {
     "output_type": "stream",
     "text": [
      "Drive already mounted at /content/drive; to attempt to forcibly remount, call drive.mount(\"/content/drive\", force_remount=True).\n"
     ],
     "name": "stdout"
    }
   ]
  },
  {
   "cell_type": "markdown",
   "metadata": {
    "id": "Z2JZ1uyoYGGA"
   },
   "source": [
    "- Drive 내에 실행할 Code가 있는 Directory로 이동한다."
   ]
  },
  {
   "cell_type": "code",
   "metadata": {
    "colab": {
     "base_uri": "https://localhost:8080/"
    },
    "id": "rhw_sRMFYLsE",
    "outputId": "01535226-9bcd-4816-cd6d-4774d1eb8541"
   },
   "source": [
    "cd /content/drive/MyDrive/YonseiUniversity/MedicalImaging/BraTS20_3D_cjyoon/"
   ],
   "execution_count": 5,
   "outputs": [
    {
     "output_type": "stream",
     "text": [
      "/content/drive/MyDrive/YonseiUniversity/MedicalImaging/BraTS20_3D_cjyoon\n"
     ],
     "name": "stdout"
    }
   ]
  },
  {
   "cell_type": "code",
   "metadata": {
    "colab": {
     "base_uri": "https://localhost:8080/"
    },
    "id": "lwTs1NOJZZnq",
    "outputId": "03b5880c-84b9-4b98-a4cf-cc545676bffd"
   },
   "source": [
    "%ll"
   ],
   "execution_count": 7,
   "outputs": [
    {
     "output_type": "stream",
     "text": [
      "total 16719\n",
      "-rw------- 1 root    18416 May 22 21:08 aitorch.py\n",
      "-rw------- 1 root     3378 May 21 15:31 Args.py\n",
      "drwx------ 2 root     4096 May 21 05:35 \u001B[0m\u001B[01;34mcheckpoints\u001B[0m/\n",
      "-rw------- 1 root     4749 May 10 15:05 Colab_Train.ipynb\n",
      "-rw------- 1 root    37304 May 21 05:33 Colab_Train_v2.ipynb\n",
      "-rw------- 1 root     3309 May  9 23:54 Custom.py\n",
      "-rw------- 1 root    21841 May 23 06:32 main.py\n",
      "drwx------ 2 root     4096 May 11 13:07 \u001B[01;34mMICCAI_BraTS20_TrainingData\u001B[0m/\n",
      "drwx------ 2 root     4096 May 10 21:07 \u001B[01;34mMICCAI_BraTS20_TrainingData_Part\u001B[0m/\n",
      "drwx------ 2 root     4096 May 21 15:25 \u001B[01;34mMICCAI_BraTS20_ValidationData\u001B[0m/\n",
      "-rw------- 1 root 16973795 May 23 04:54 model_cjyoon.pth\n",
      "drwx------ 2 root     4096 May 21 05:29 \u001B[01;34m__pycache__\u001B[0m/\n",
      "-rw------- 1 root     8133 May 10 15:21 ReadMe.docx\n",
      "-rw------- 1 root     3875 May 10 13:37 Run_Train.py\n",
      "-rw------- 1 root     3455 May 10 13:37 Run_Val.py\n",
      "-rw------- 1 root     9309 May 10 13:39 Train.py\n",
      "-rw------- 1 root     7093 May 10 13:59 UNET.py\n",
      "-rw------- 1 root     2445 May 10 13:47 Utils.py\n"
     ],
     "name": "stdout"
    }
   ]
  },
  {
   "cell_type": "markdown",
   "metadata": {
    "id": "cDvF4b4EYub-"
   },
   "source": [
    "- 설치할 Package가 있으면 pip을 통해 설치한다."
   ]
  },
  {
   "cell_type": "code",
   "metadata": {
    "colab": {
     "base_uri": "https://localhost:8080/"
    },
    "id": "az2khRoTYyRA",
    "outputId": "813fc985-9e1e-4355-d337-60bdf5c30385"
   },
   "source": [
    "!pip install SimpleITK\n",
    "!pip install nibabel"
   ],
   "execution_count": 9,
   "outputs": [
    {
     "output_type": "stream",
     "text": [
      "Requirement already satisfied: SimpleITK in /usr/local/lib/python3.7/dist-packages (2.0.2)\n",
      "Requirement already satisfied: nibabel in /usr/local/lib/python3.7/dist-packages (3.0.2)\n",
      "Requirement already satisfied: numpy>=1.12 in /usr/local/lib/python3.7/dist-packages (from nibabel) (1.19.5)\n"
     ],
     "name": "stdout"
    }
   ]
  },
  {
   "cell_type": "markdown",
   "metadata": {
    "id": "dncoj5quYknI"
   },
   "source": [
    "- Python 파일을 직접 실행한다."
   ]
  },
  {
   "cell_type": "code",
   "metadata": {
    "colab": {
     "base_uri": "https://localhost:8080/"
    },
    "id": "tj4zuh0fYoku",
    "outputId": "9704e0be-8f4a-4391-b70c-306213136d64"
   },
   "source": [
    "!python unet.py"
   ],
   "execution_count": null,
   "outputs": [
    {
     "output_type": "stream",
     "text": [
      "cuda device activation\n",
      "Directory of the pre-trained model: model_cjyoon.pth\n",
      "## Successfully load the model at 33 epochs!\n",
      "Epoch: 33 [299/300 99.67%], Loss=0.2622, BG=0.9990, NCR=0.6757, ED=0.673794, SET=0.6150: : 300it [16:26,  3.29s/it]\n",
      "69it [03:05,  2.69s/it]\n",
      "Epoch: 34 [299/300 99.67%], Loss=0.2423, BG=0.9993, NCR=0.6821, ED=0.711148, SET=0.6674: : 300it [16:20,  3.27s/it]\n",
      "69it [00:54,  1.26it/s]\n",
      "Epoch: 35 [299/300 99.67%], Loss=0.2378, BG=0.9977, NCR=0.7997, ED=0.451433, SET=0.8204: : 300it [16:20,  3.27s/it]\n",
      "69it [00:54,  1.26it/s]\n",
      "Epoch: 36 [299/300 99.67%], Loss=0.1835, BG=0.9980, NCR=0.7592, ED=0.820487, SET=0.7755: : 300it [16:20,  3.27s/it]\n",
      "69it [00:56,  1.22it/s]\n",
      "learning rate is divided by 2\n",
      "Epoch: 37 [299/300 99.67%], Loss=0.2515, BG=0.9973, NCR=0.4590, ED=0.793665, SET=0.7708: : 300it [16:33,  3.31s/it]\n",
      "69it [00:55,  1.23it/s]\n",
      "Epoch: 38 [299/300 99.67%], Loss=0.3181, BG=0.9987, NCR=0.2714, ED=0.718737, SET=0.7607: : 300it [16:33,  3.31s/it]\n",
      "69it [00:55,  1.24it/s]\n",
      "Epoch: 39 [299/300 99.67%], Loss=0.4535, BG=0.9990, NCR=0.1024, ED=0.494662, SET=0.5985: : 300it [16:33,  3.31s/it]\n",
      "69it [00:55,  1.25it/s]\n",
      "learning rate is divided by 2\n",
      "Epoch: 40 [299/300 99.67%], Loss=0.5111, BG=0.9982, NCR=0.1340, ED=0.240315, SET=0.5425: : 300it [16:33,  3.31s/it]\n",
      "69it [00:55,  1.23it/s]\n",
      "Epoch: 41 [299/300 99.67%], Loss=0.3097, BG=0.9995, NCR=0.5123, ED=0.756115, SET=0.5897: : 300it [16:33,  3.31s/it]\n",
      "69it [00:56,  1.23it/s]\n",
      "Epoch: 42 [299/300 99.67%], Loss=0.2279, BG=0.9976, NCR=0.5936, ED=0.628926, SET=0.8995: : 300it [16:32,  3.31s/it]\n",
      "69it [00:55,  1.24it/s]\n",
      "learning rate is divided by 2\n",
      "Epoch: 43 [299/300 99.67%], Loss=0.4130, BG=0.9991, NCR=0.0322, ED=0.625205, SET=0.6853: : 300it [16:31,  3.31s/it]\n",
      "69it [00:55,  1.24it/s]\n",
      "Epoch: 44 [299/300 99.67%], Loss=0.5404, BG=0.9977, NCR=0.2530, ED=0.589646, SET=0.0178: : 300it [16:31,  3.31s/it]\n",
      "69it [00:55,  1.25it/s]\n",
      "Epoch: 45 [299/300 99.67%], Loss=0.2895, BG=0.9985, NCR=0.3322, ED=0.841829, SET=0.6832: : 300it [16:31,  3.31s/it]\n",
      "69it [00:55,  1.25it/s]\n",
      "learning rate is divided by 2\n",
      "Epoch: 46 [299/300 99.67%], Loss=0.2190, BG=0.9982, NCR=0.6224, ED=0.795815, SET=0.7177: : 300it [16:34,  3.31s/it]\n",
      "69it [00:55,  1.25it/s]\n",
      "Epoch: 47 [299/300 99.67%], Loss=0.3103, BG=0.9979, NCR=0.7081, ED=0.679068, SET=0.4125: : 300it [16:34,  3.31s/it]\n",
      "69it [00:55,  1.25it/s]\n",
      "Epoch: 48 [299/300 99.67%], Loss=0.5904, BG=0.9942, NCR=0.0000, ED=0.645179, SET=0.0034: : 300it [16:34,  3.31s/it]\n",
      "69it [00:55,  1.24it/s]\n",
      "learning rate is divided by 2\n",
      "Epoch: 49 [299/300 99.67%], Loss=0.3448, BG=0.9989, NCR=0.0061, ED=0.861244, SET=0.7614: : 300it [16:32,  3.31s/it]\n",
      "69it [00:55,  1.24it/s]\n",
      "Epoch: 50 [299/300 99.67%], Loss=0.4736, BG=0.9993, NCR=0.8280, ED=0.314708, SET=1.0000: : 300it [16:32,  3.31s/it]\n",
      "69it [00:55,  1.23it/s]\n",
      "Epoch: 51 [299/300 99.67%], Loss=0.2828, BG=0.9975, NCR=0.3899, ED=0.768558, SET=0.7342: : 300it [16:32,  3.31s/it]\n",
      "69it [00:56,  1.21it/s]\n",
      "learning rate is divided by 2\n",
      "Epoch: 52 [299/300 99.67%], Loss=0.6296, BG=0.9944, NCR=0.0239, ED=0.180621, SET=0.2864: : 300it [16:32,  3.31s/it]\n",
      "69it [00:56,  1.23it/s]\n",
      "Epoch: 53 [299/300 99.67%], Loss=0.6088, BG=0.9979, NCR=0.3952, ED=0.184204, SET=0.0000: : 300it [16:32,  3.31s/it]\n",
      "69it [00:56,  1.23it/s]\n",
      "Epoch: 54 [299/300 99.67%], Loss=0.5101, BG=0.9941, NCR=0.5235, ED=0.442241, SET=0.0085: : 300it [16:32,  3.31s/it]\n",
      "69it [00:55,  1.23it/s]\n",
      "learning rate is divided by 2\n",
      "Epoch: 55 [299/300 99.67%], Loss=0.3081, BG=0.9967, NCR=0.5579, ED=0.572803, SET=0.6485: : 300it [16:36,  3.32s/it]\n",
      "69it [00:57,  1.21it/s]\n",
      "Epoch: 56 [299/300 99.67%], Loss=0.2698, BG=0.9978, NCR=0.5008, ED=0.724311, SET=0.7139: : 300it [16:36,  3.32s/it]\n",
      "69it [00:55,  1.24it/s]\n",
      "Epoch: 57 [234/300 78.00%], Loss=0.3026, BG=0.9992, NCR=0.7110, ED=0.492855, SET=0.6223: : 235it [13:00,  3.31s/it]"
     ],
     "name": "stdout"
    }
   ]
  }
 ]
}